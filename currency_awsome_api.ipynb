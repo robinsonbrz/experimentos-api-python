{
 "cells": [
  {
   "cell_type": "code",
   "execution_count": 2,
   "metadata": {},
   "outputs": [],
   "source": [
    "import requests\n",
    "import json\n",
    "from datetime import datetime\n"
   ]
  },
  {
   "cell_type": "code",
   "execution_count": 3,
   "metadata": {},
   "outputs": [
    {
     "name": "stdout",
     "output_type": "stream",
     "text": [
      "200\n"
     ]
    }
   ],
   "source": [
    "objeto_cotacao = requests.get(f'https://economia.awesomeapi.com.br/json/all')\n",
    "# retorna todas as modedas disponíveis para análise\n",
    "print(objeto_cotacao.status_code)\n",
    "dict_cotacoes_moedas = objeto_cotacao.json()\n"
   ]
  },
  {
   "cell_type": "code",
   "execution_count": 4,
   "metadata": {},
   "outputs": [
    {
     "name": "stdout",
     "output_type": "stream",
     "text": [
      "['USD', 'USDT', 'CAD', 'EUR', 'GBP', 'ARS', 'BTC', 'LTC', 'JPY', 'CHF', 'AUD', 'CNY', 'ILS', 'ETH', 'XRP', 'DOGE']\n"
     ]
    }
   ],
   "source": [
    "lista_moedas = []\n",
    "# itera mostrando todas as moedas possíveis\n",
    "for moeda in dict_cotacoes_moedas:\n",
    "    lista_moedas.append(moeda)\n",
    "print (lista_moedas)"
   ]
  },
  {
   "cell_type": "code",
   "execution_count": 13,
   "metadata": {},
   "outputs": [
    {
     "name": "stdout",
     "output_type": "stream",
     "text": [
      "USD Dólar Americano/Real BrasileiroBid: 5.1342    Ask: 5.1366\n",
      "USD Dólar Americano/Real Brasileiro TurismoBid: 5    Ask: 5.31\n",
      "CAD Dólar Canadense/Real BrasileiroBid: 3.9394    Ask: 3.942\n",
      "EUR Euro/Real BrasileiroBid: 5.4063    Ask: 5.4109\n",
      "GBP Libra Esterlina/Real BrasileiroBid: 6.3204    Ask: 6.3222\n",
      "ARS Peso Argentino/Real BrasileiroBid: 0.0439    Ask: 0.0439\n",
      "BTC Bitcoin/Real BrasileiroBid: 161.5    Ask: 161.699\n",
      "LTC Litecoin/Real BrasileiroBid: 413    Ask: 415.71\n",
      "JPY Iene Japonês/Real BrasileiroBid: 0.03937    Ask: 0.0394\n",
      "CHF Franco Suíço/Real BrasileiroBid: 5.154    Ask: 5.1586\n",
      "AUD Dólar Australiano/Real BrasileiroBid: 3.5605    Ask: 3.5631\n",
      "CNY Yuan Chinês/Real BrasileiroBid: 0.7624    Ask: 0.7626\n",
      "ILS Novo Shekel Israelense/Real BrasileiroBid: 1.4841    Ask: 1.4844\n",
      "ETH Ethereum/Real BrasileiroBid: 12.12    Ask: 12.1495\n",
      "XRP XRP/Real BrasileiroBid: 2.67    Ask: 2.68\n",
      "DOGE Dogecoin/Real BrasileiroBid: 0.569818    Ask: 0.569818\n"
     ]
    }
   ],
   "source": [
    "dm = dict_cotacoes_moedas\n",
    "for moeda in dm:\n",
    "    print(dm[moeda]['code']  + \" \"  + dm[moeda]['name'] + \"Bid: \" + dm[moeda]['bid']  + \"    Ask: \" + dm[moeda]['ask'])"
   ]
  },
  {
   "cell_type": "code",
   "execution_count": 14,
   "metadata": {},
   "outputs": [
    {
     "name": "stdout",
     "output_type": "stream",
     "text": [
      "2022-05-10 16:10:32\n",
      "dt_object = 2022-05-10 16:10:32\n",
      "1652209832\n"
     ]
    }
   ],
   "source": [
    "# campo create_date possui mesmo valor que o timestamp mas em formatos diferentes\n",
    "print(dict_cotacoes_moedas['USD']['create_date'])\n",
    "\n",
    "time_stamp_cotacao = int(dict_cotacoes_moedas['USD']['timestamp'])\n",
    "dt_object = datetime.fromtimestamp(time_stamp_cotacao)\n",
    "print(\"dt_object =\", dt_object)\n",
    "\n",
    "print(dict_cotacoes_moedas['USD']['timestamp'])\n"
   ]
  },
  {
   "cell_type": "code",
   "execution_count": 19,
   "metadata": {},
   "outputs": [
    {
     "name": "stdout",
     "output_type": "stream",
     "text": [
      "Dólar Americano/Real Brasileiro\n",
      "Valor: 5.1348\n",
      "Horário: 2022-05-10 17:20:02\n"
     ]
    }
   ],
   "source": [
    "# nessa api também é possível ler apenas a cotação de uma moeda por vez\n",
    "# última cotação da moeda\n",
    "objeto_cotacao_ultima = requests.get('https://economia.awesomeapi.com.br/last/USD-BRL')\n",
    "dict_dolar =  objeto_cotacao_ultima.json()\n",
    "print(dict_dolar['USDBRL']['name'])\n",
    "print('Valor: ' + dict_dolar['USDBRL']['ask'])\n",
    "print('Horário: ' + dict_dolar['USDBRL']['create_date'])\n"
   ]
  },
  {
   "cell_type": "code",
   "execution_count": 17,
   "metadata": {},
   "outputs": [
    {
     "name": "stdout",
     "output_type": "stream",
     "text": [
      "{'USDBRL': {'code': 'USD', 'codein': 'BRL', 'name': 'Dólar Americano/Real Brasileiro', 'high': '5.1663', 'low': '5.1095', 'varBid': '-0.028', 'pctChange': '-0.54', 'bid': '5.1331', 'ask': '5.1343', 'timestamp': '1652213369', 'create_date': '2022-05-10 17:09:29'}, 'EURBRL': {'code': 'EUR', 'codein': 'BRL', 'name': 'Euro/Real Brasileiro', 'high': '5.4643', 'low': '5.3843', 'varBid': '-0.0425', 'pctChange': '-0.78', 'bid': '5.4041', 'ask': '5.4074', 'timestamp': '1652213369', 'create_date': '2022-05-10 17:09:29'}, 'BTCBRL': {'code': 'BTC', 'codein': 'BRL', 'name': 'Bitcoin/Real Brasileiro', 'high': '170', 'low': '155.685', 'varBid': '935', 'pctChange': '0.58', 'bid': '161.742', 'ask': '162.036', 'timestamp': '1652212999', 'create_date': '2022-05-10 17:03:19'}}\n"
     ]
    }
   ],
   "source": []
  }
 ],
 "metadata": {
  "interpreter": {
   "hash": "d67a6ca98be28c8cf502402a1d37bfe2040f0349fa54090cd1d1dcbfe425ef56"
  },
  "kernelspec": {
   "display_name": "Python 3.10.2 ('venv': venv)",
   "language": "python",
   "name": "python3"
  },
  "language_info": {
   "codemirror_mode": {
    "name": "ipython",
    "version": 3
   },
   "file_extension": ".py",
   "mimetype": "text/x-python",
   "name": "python",
   "nbconvert_exporter": "python",
   "pygments_lexer": "ipython3",
   "version": "3.10.2"
  },
  "orig_nbformat": 4
 },
 "nbformat": 4,
 "nbformat_minor": 2
}
