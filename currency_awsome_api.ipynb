{
 "cells": [
  {
   "cell_type": "code",
   "execution_count": 1,
   "metadata": {},
   "outputs": [],
   "source": [
    "import requests\n",
    "import json\n",
    "from datetime import datetime\n"
   ]
  },
  {
   "cell_type": "code",
   "execution_count": 3,
   "metadata": {},
   "outputs": [
    {
     "name": "stdout",
     "output_type": "stream",
     "text": [
      "200\n"
     ]
    }
   ],
   "source": [
    "objeto_cotacao = requests.get(f'https://economia.awesomeapi.com.br/last/btc')\n",
    "# retorna todas as modedas disponíveis para análise\n",
    "print(objeto_cotacao.status_code)\n",
    "dict_cotacoes_moedas = objeto_cotacao.json()"
   ]
  },
  {
   "cell_type": "code",
   "execution_count": 13,
   "metadata": {},
   "outputs": [
    {
     "name": "stdout",
     "output_type": "stream",
     "text": [
      "{'BTCBRL': {'code': 'BTC', 'codein': 'BRL', 'name': 'Bitcoin/Real Brasileiro', 'high': '165.6', 'low': '144.5', 'varBid': '-9115', 'pctChange': '-5.66', 'bid': '151.631', 'ask': '151.939', 'timestamp': '1652314783', 'create_date': '2022-05-11 21:19:43'}}\n",
      "{'par_atual': {'code': 'BTC', 'codein': 'BRL', 'name': 'Bitcoin/Real Brasileiro', 'high': '165.6', 'low': '144.5', 'varBid': '-9115', 'pctChange': '-5.66', 'bid': '151.631', 'ask': '151.939', 'timestamp': '1652314783', 'create_date': '2022-05-11 21:19:43'}}\n",
      "{'par_atual': {'code': 'BTC', 'codein': 'BRL', 'name': 'Bitcoin', 'high': '165.6', 'low': '144.5', 'varBid': '-9115', 'pctChange': '-5.66', 'bid': '151.631', 'ask': '151.939', 'timestamp': '1652314783', 'create_date': '2022-05-11 21:19:43'}}\n"
     ]
    }
   ],
   "source": [
    "    objeto_cotacao = requests.get(f'https://economia.awesomeapi.com.br/last/btc')\n",
    "    # retorna todas as modedas disponíveis para análise\n",
    "    objeto_cotacao = objeto_cotacao.json()\n",
    "    print(objeto_cotacao)\n",
    "    dict_cotacao = {}\n",
    "    for par in objeto_cotacao:\n",
    "        dict_cotacao['par_atual'] = objeto_cotacao[par]\n",
    "    print(dict_cotacao)\n",
    "    dict_cotacao['par_atual']['name'] = dict_cotacao['par_atual']['name'].split('/')[0]\n",
    "    print(dict_cotacao)\n",
    "    \n"
   ]
  },
  {
   "cell_type": "code",
   "execution_count": null,
   "metadata": {},
   "outputs": [],
   "source": []
  },
  {
   "cell_type": "code",
   "execution_count": 27,
   "metadata": {},
   "outputs": [
    {
     "name": "stdout",
     "output_type": "stream",
     "text": [
      "('GBP', 'Libra Esterlina')\n"
     ]
    }
   ],
   "source": [
    "    lista_moedas = []\n",
    "    dict_pares_moedas = {}\n",
    "    lista_pares = []\n",
    "\n",
    "    # itera mostrando todas as moedas possíveis\n",
    "    for moeda in dict_cotacoes_moedas:\n",
    "        lista_moedas.append(moeda)\n",
    "    for moeda in lista_moedas:\n",
    "        lista_pares.append((moeda,dict_cotacoes_moedas[moeda]['name'].split('/')[0]))\n",
    "\n",
    "    dict_pares_moedas['pares'] = lista_pares\n",
    "    print(dict_pares_moedas['pares'][4])"
   ]
  },
  {
   "cell_type": "code",
   "execution_count": 10,
   "metadata": {},
   "outputs": [
    {
     "name": "stdout",
     "output_type": "stream",
     "text": [
      "USD\n",
      "Dólar Americano\n",
      "USDT\n",
      "Dólar Americano\n",
      "CAD\n",
      "Dólar Canadense\n",
      "EUR\n",
      "Euro\n",
      "GBP\n",
      "Libra Esterlina\n",
      "ARS\n",
      "Peso Argentino\n",
      "BTC\n",
      "Bitcoin\n",
      "LTC\n",
      "Litecoin\n",
      "JPY\n",
      "Iene Japonês\n",
      "CHF\n",
      "Franco Suíço\n",
      "AUD\n",
      "Dólar Australiano\n",
      "CNY\n",
      "Yuan Chinês\n",
      "ILS\n",
      "Novo Shekel Israelense\n",
      "ETH\n",
      "Ethereum\n",
      "XRP\n",
      "XRP\n",
      "DOGE\n",
      "Dogecoin\n"
     ]
    }
   ],
   "source": [
    "lista_moedas = []\n",
    "# itera mostrando todas as moedas possíveis\n",
    "for moeda in dict_cotacoes_moedas:\n",
    "    lista_moedas.append(moeda)\n",
    "for moeda in lista_moedas:\n",
    "    print(moeda)\n",
    "    print(dict_cotacoes_moedas[moeda]['name'].split('/')[0])"
   ]
  },
  {
   "cell_type": "code",
   "execution_count": 5,
   "metadata": {},
   "outputs": [
    {
     "name": "stdout",
     "output_type": "stream",
     "text": [
      "USD Dólar Americano/Real BrasileiroBid: 5.1323    Ask: 5.1333\n",
      "USD Dólar Americano/Real Brasileiro TurismoBid: 5    Ask: 5.31\n",
      "CAD Dólar Canadense/Real BrasileiroBid: 3.9443    Ask: 3.9454\n",
      "EUR Euro/Real BrasileiroBid: 5.4053    Ask: 5.4084\n",
      "GBP Libra Esterlina/Real BrasileiroBid: 6.324    Ask: 6.3273\n",
      "ARS Peso Argentino/Real BrasileiroBid: 0.0439    Ask: 0.0439\n",
      "BTC Bitcoin/Real BrasileiroBid: 159.187    Ask: 159.366\n",
      "LTC Litecoin/Real BrasileiroBid: 410.97    Ask: 410.97\n",
      "JPY Iene Japonês/Real BrasileiroBid: 0.03936    Ask: 0.03938\n",
      "CHF Franco Suíço/Real BrasileiroBid: 5.1545    Ask: 5.1581\n",
      "AUD Dólar Australiano/Real BrasileiroBid: 3.5669    Ask: 3.5697\n",
      "CNY Yuan Chinês/Real BrasileiroBid: 0.7633    Ask: 0.7634\n",
      "ILS Novo Shekel Israelense/Real BrasileiroBid: 1.4868    Ask: 1.4871\n",
      "ETH Ethereum/Real BrasileiroBid: 12.1149    Ask: 12.1774\n",
      "XRP XRP/Real BrasileiroBid: 2.64    Ask: 2.65\n",
      "DOGE Dogecoin/Real BrasileiroBid: 0.552109    Ask: 0.552109\n"
     ]
    }
   ],
   "source": [
    "dm = dict_cotacoes_moedas\n",
    "for moeda in dm:\n",
    "    print(dm[moeda]['code']  + \" \"  + dm[moeda]['name'] + \"Bid: \" + dm[moeda]['bid']  + \"    Ask: \" + dm[moeda]['ask'])"
   ]
  },
  {
   "cell_type": "code",
   "execution_count": 10,
   "metadata": {},
   "outputs": [
    {
     "name": "stdout",
     "output_type": "stream",
     "text": [
      "2022-05-10 18:00:01\n",
      "tipo time_stamp_cotacao  <class 'int'>\n",
      "dt_object = 2022-05-10 18:00:01\n",
      "1652216401\n",
      "May 10 2022\n"
     ]
    }
   ],
   "source": [
    "# campo create_date possui mesmo valor que o timestamp mas em formatos diferentes\n",
    "print(dict_cotacoes_moedas['USD']['create_date'])\n",
    "\n",
    "time_stamp_cotacao = int(dict_cotacoes_moedas['USD']['timestamp'])\n",
    "print(\"tipo time_stamp_cotacao \", type(time_stamp_cotacao))\n",
    "dt_object = datetime.fromtimestamp(time_stamp_cotacao)\n",
    "print(\"dt_object =\", dt_object)\n",
    "\n",
    "print(dict_cotacoes_moedas['USD']['timestamp'])\n",
    "\n",
    "# Formatando o objeto dt\n",
    "print(dt_object.strftime(\"%B %d %Y\"))"
   ]
  },
  {
   "cell_type": "code",
   "execution_count": 8,
   "metadata": {},
   "outputs": [
    {
     "ename": "ValueError",
     "evalue": "time data '1652216401' does not match format '%d/%m/%y'",
     "output_type": "error",
     "traceback": [
      "\u001b[1;31m---------------------------------------------------------------------------\u001b[0m",
      "\u001b[1;31mValueError\u001b[0m                                Traceback (most recent call last)",
      "\u001b[1;32mc:\\Users\\Max\\vscode-proj\\experimentos-api\\currency_awsome_api.ipynb Cell 6'\u001b[0m in \u001b[0;36m<cell line: 2>\u001b[1;34m()\u001b[0m\n\u001b[0;32m      <a href='vscode-notebook-cell:/c%3A/Users/Max/vscode-proj/experimentos-api/currency_awsome_api.ipynb#ch0000007?line=0'>1</a>\u001b[0m format_data \u001b[39m=\u001b[39m \u001b[39m\"\u001b[39m\u001b[39m%d\u001b[39;00m\u001b[39m/\u001b[39m\u001b[39m%\u001b[39m\u001b[39mm/\u001b[39m\u001b[39m%\u001b[39m\u001b[39my\u001b[39m\u001b[39m\"\u001b[39m\n\u001b[1;32m----> <a href='vscode-notebook-cell:/c%3A/Users/Max/vscode-proj/experimentos-api/currency_awsome_api.ipynb#ch0000007?line=1'>2</a>\u001b[0m date \u001b[39m=\u001b[39m datetime\u001b[39m.\u001b[39;49mstrptime(dict_cotacoes_moedas[\u001b[39m'\u001b[39;49m\u001b[39mUSD\u001b[39;49m\u001b[39m'\u001b[39;49m][\u001b[39m'\u001b[39;49m\u001b[39mtimestamp\u001b[39;49m\u001b[39m'\u001b[39;49m], format_data)\n",
      "File \u001b[1;32m~\\AppData\\Local\\Programs\\Python\\Python310\\lib\\_strptime.py:568\u001b[0m, in \u001b[0;36m_strptime_datetime\u001b[1;34m(cls, data_string, format)\u001b[0m\n\u001b[0;32m    <a href='file:///c%3A/Users/Max/AppData/Local/Programs/Python/Python310/lib/_strptime.py?line=564'>565</a>\u001b[0m \u001b[39mdef\u001b[39;00m \u001b[39m_strptime_datetime\u001b[39m(\u001b[39mcls\u001b[39m, data_string, \u001b[39mformat\u001b[39m\u001b[39m=\u001b[39m\u001b[39m\"\u001b[39m\u001b[39m%a\u001b[39;00m\u001b[39m \u001b[39m\u001b[39m%\u001b[39m\u001b[39mb \u001b[39m\u001b[39m%d\u001b[39;00m\u001b[39m \u001b[39m\u001b[39m%\u001b[39m\u001b[39mH:\u001b[39m\u001b[39m%\u001b[39m\u001b[39mM:\u001b[39m\u001b[39m%\u001b[39m\u001b[39mS \u001b[39m\u001b[39m%\u001b[39m\u001b[39mY\u001b[39m\u001b[39m\"\u001b[39m):\n\u001b[0;32m    <a href='file:///c%3A/Users/Max/AppData/Local/Programs/Python/Python310/lib/_strptime.py?line=565'>566</a>\u001b[0m     \u001b[39m\"\"\"Return a class cls instance based on the input string and the\u001b[39;00m\n\u001b[0;32m    <a href='file:///c%3A/Users/Max/AppData/Local/Programs/Python/Python310/lib/_strptime.py?line=566'>567</a>\u001b[0m \u001b[39m    format string.\"\"\"\u001b[39;00m\n\u001b[1;32m--> <a href='file:///c%3A/Users/Max/AppData/Local/Programs/Python/Python310/lib/_strptime.py?line=567'>568</a>\u001b[0m     tt, fraction, gmtoff_fraction \u001b[39m=\u001b[39m _strptime(data_string, \u001b[39mformat\u001b[39;49m)\n\u001b[0;32m    <a href='file:///c%3A/Users/Max/AppData/Local/Programs/Python/Python310/lib/_strptime.py?line=568'>569</a>\u001b[0m     tzname, gmtoff \u001b[39m=\u001b[39m tt[\u001b[39m-\u001b[39m\u001b[39m2\u001b[39m:]\n\u001b[0;32m    <a href='file:///c%3A/Users/Max/AppData/Local/Programs/Python/Python310/lib/_strptime.py?line=569'>570</a>\u001b[0m     args \u001b[39m=\u001b[39m tt[:\u001b[39m6\u001b[39m] \u001b[39m+\u001b[39m (fraction,)\n",
      "File \u001b[1;32m~\\AppData\\Local\\Programs\\Python\\Python310\\lib\\_strptime.py:349\u001b[0m, in \u001b[0;36m_strptime\u001b[1;34m(data_string, format)\u001b[0m\n\u001b[0;32m    <a href='file:///c%3A/Users/Max/AppData/Local/Programs/Python/Python310/lib/_strptime.py?line=346'>347</a>\u001b[0m found \u001b[39m=\u001b[39m format_regex\u001b[39m.\u001b[39mmatch(data_string)\n\u001b[0;32m    <a href='file:///c%3A/Users/Max/AppData/Local/Programs/Python/Python310/lib/_strptime.py?line=347'>348</a>\u001b[0m \u001b[39mif\u001b[39;00m \u001b[39mnot\u001b[39;00m found:\n\u001b[1;32m--> <a href='file:///c%3A/Users/Max/AppData/Local/Programs/Python/Python310/lib/_strptime.py?line=348'>349</a>\u001b[0m     \u001b[39mraise\u001b[39;00m \u001b[39mValueError\u001b[39;00m(\u001b[39m\"\u001b[39m\u001b[39mtime data \u001b[39m\u001b[39m%r\u001b[39;00m\u001b[39m does not match format \u001b[39m\u001b[39m%r\u001b[39;00m\u001b[39m\"\u001b[39m \u001b[39m%\u001b[39m\n\u001b[0;32m    <a href='file:///c%3A/Users/Max/AppData/Local/Programs/Python/Python310/lib/_strptime.py?line=349'>350</a>\u001b[0m                      (data_string, \u001b[39mformat\u001b[39m))\n\u001b[0;32m    <a href='file:///c%3A/Users/Max/AppData/Local/Programs/Python/Python310/lib/_strptime.py?line=350'>351</a>\u001b[0m \u001b[39mif\u001b[39;00m \u001b[39mlen\u001b[39m(data_string) \u001b[39m!=\u001b[39m found\u001b[39m.\u001b[39mend():\n\u001b[0;32m    <a href='file:///c%3A/Users/Max/AppData/Local/Programs/Python/Python310/lib/_strptime.py?line=351'>352</a>\u001b[0m     \u001b[39mraise\u001b[39;00m \u001b[39mValueError\u001b[39;00m(\u001b[39m\"\u001b[39m\u001b[39munconverted data remains: \u001b[39m\u001b[39m%s\u001b[39;00m\u001b[39m\"\u001b[39m \u001b[39m%\u001b[39m\n\u001b[0;32m    <a href='file:///c%3A/Users/Max/AppData/Local/Programs/Python/Python310/lib/_strptime.py?line=352'>353</a>\u001b[0m                       data_string[found\u001b[39m.\u001b[39mend():])\n",
      "\u001b[1;31mValueError\u001b[0m: time data '1652216401' does not match format '%d/%m/%y'"
     ]
    }
   ],
   "source": [
    "format_data = \"%d/%m/%y\"\n",
    "date = datetime.strptime(dict_cotacoes_moedas['USD']['timestamp'], format_data)"
   ]
  },
  {
   "cell_type": "code",
   "execution_count": 19,
   "metadata": {},
   "outputs": [
    {
     "name": "stdout",
     "output_type": "stream",
     "text": [
      "Dólar Americano/Real Brasileiro\n",
      "Valor: 5.1348\n",
      "Horário: 2022-05-10 17:20:02\n"
     ]
    }
   ],
   "source": [
    "# nessa api também é possível ler apenas a cotação de uma moeda por vez\n",
    "# última cotação da moeda\n",
    "objeto_cotacao_ultima = requests.get('https://economia.awesomeapi.com.br/last/USD-BRL')\n",
    "dict_dolar =  objeto_cotacao_ultima.json()\n",
    "print(dict_dolar['USDBRL']['name'])\n",
    "print('Valor: ' + dict_dolar['USDBRL']['ask'])\n",
    "print('Horário: ' + dict_dolar['USDBRL']['create_date'])\n"
   ]
  },
  {
   "cell_type": "code",
   "execution_count": 17,
   "metadata": {},
   "outputs": [
    {
     "name": "stdout",
     "output_type": "stream",
     "text": [
      "{'USDBRL': {'code': 'USD', 'codein': 'BRL', 'name': 'Dólar Americano/Real Brasileiro', 'high': '5.1663', 'low': '5.1095', 'varBid': '-0.028', 'pctChange': '-0.54', 'bid': '5.1331', 'ask': '5.1343', 'timestamp': '1652213369', 'create_date': '2022-05-10 17:09:29'}, 'EURBRL': {'code': 'EUR', 'codein': 'BRL', 'name': 'Euro/Real Brasileiro', 'high': '5.4643', 'low': '5.3843', 'varBid': '-0.0425', 'pctChange': '-0.78', 'bid': '5.4041', 'ask': '5.4074', 'timestamp': '1652213369', 'create_date': '2022-05-10 17:09:29'}, 'BTCBRL': {'code': 'BTC', 'codein': 'BRL', 'name': 'Bitcoin/Real Brasileiro', 'high': '170', 'low': '155.685', 'varBid': '935', 'pctChange': '0.58', 'bid': '161.742', 'ask': '162.036', 'timestamp': '1652212999', 'create_date': '2022-05-10 17:03:19'}}\n"
     ]
    }
   ],
   "source": []
  }
 ],
 "metadata": {
  "interpreter": {
   "hash": "d67a6ca98be28c8cf502402a1d37bfe2040f0349fa54090cd1d1dcbfe425ef56"
  },
  "kernelspec": {
   "display_name": "Python 3.10.2 ('venv': venv)",
   "language": "python",
   "name": "python3"
  },
  "language_info": {
   "codemirror_mode": {
    "name": "ipython",
    "version": 3
   },
   "file_extension": ".py",
   "mimetype": "text/x-python",
   "name": "python",
   "nbconvert_exporter": "python",
   "pygments_lexer": "ipython3",
   "version": "3.10.2"
  },
  "orig_nbformat": 4
 },
 "nbformat": 4,
 "nbformat_minor": 2
}
