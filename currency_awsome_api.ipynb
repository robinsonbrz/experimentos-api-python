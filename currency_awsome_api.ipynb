{
 "cells": [
  {
   "cell_type": "code",
   "execution_count": 10,
   "metadata": {},
   "outputs": [],
   "source": [
    "import requests\n",
    "import json\n",
    "from datetime import datetime\n"
   ]
  },
  {
   "cell_type": "code",
   "execution_count": 4,
   "metadata": {},
   "outputs": [
    {
     "name": "stdout",
     "output_type": "stream",
     "text": [
      "200\n"
     ]
    }
   ],
   "source": [
    "objeto_cotacao = requests.get(f'https://economia.awesomeapi.com.br/json/all')\n",
    "# retorna todas as modedas disponíveis para análise\n",
    "print(objeto_cotacao.status_code)\n",
    "dict_cotacoes_moedas = objeto_cotacao.json()\n"
   ]
  },
  {
   "cell_type": "code",
   "execution_count": 16,
   "metadata": {},
   "outputs": [
    {
     "name": "stdout",
     "output_type": "stream",
     "text": [
      "['USD', 'USDT', 'CAD', 'EUR', 'GBP', 'ARS', 'BTC', 'LTC', 'JPY', 'CHF', 'AUD', 'CNY', 'ILS', 'ETH', 'XRP', 'DOGE']\n"
     ]
    }
   ],
   "source": [
    "lista_moedas = []\n",
    "# itera mostrando todas as moedas possíveis\n",
    "for moeda in dict_cotacoes_moedas:\n",
    "    lista_moedas.append(moeda)\n",
    "print (lista_moedas)"
   ]
  },
  {
   "cell_type": "code",
   "execution_count": 14,
   "metadata": {},
   "outputs": [
    {
     "name": "stdout",
     "output_type": "stream",
     "text": [
      "2022-05-10 16:10:32\n",
      "dt_object = 2022-05-10 16:10:32\n",
      "1652209832\n"
     ]
    }
   ],
   "source": [
    "# campo create_date possui mesmo valor que o timestamp mas em formatos diferentes\n",
    "print(dict_cotacoes_moedas['USD']['create_date'])\n",
    "\n",
    "time_stamp_cotacao = int(dict_cotacoes_moedas['USD']['timestamp'])\n",
    "dt_object = datetime.fromtimestamp(time_stamp_cotacao)\n",
    "print(\"dt_object =\", dt_object)\n",
    "\n",
    "print(dict_cotacoes_moedas['USD']['timestamp'])\n"
   ]
  }
 ],
 "metadata": {
  "interpreter": {
   "hash": "d67a6ca98be28c8cf502402a1d37bfe2040f0349fa54090cd1d1dcbfe425ef56"
  },
  "kernelspec": {
   "display_name": "Python 3.10.2 ('venv': venv)",
   "language": "python",
   "name": "python3"
  },
  "language_info": {
   "codemirror_mode": {
    "name": "ipython",
    "version": 3
   },
   "file_extension": ".py",
   "mimetype": "text/x-python",
   "name": "python",
   "nbconvert_exporter": "python",
   "pygments_lexer": "ipython3",
   "version": "3.10.2"
  },
  "orig_nbformat": 4
 },
 "nbformat": 4,
 "nbformat_minor": 2
}
