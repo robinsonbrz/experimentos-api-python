{
 "cells": [
  {
   "cell_type": "markdown",
   "metadata": {},
   "source": [
    "Consumo de api \n",
    "\n",
    "https://docs.awesomeapi.com.br/api-cep\n",
    "\n",
    "API CEP\n",
    "Base de CEP IBGE atualizada mensalmente\n",
    "\n",
    "Buscar um CEP\n",
    "Retorna o endereço do CEP\n",
    "Ex.: https://cep.awesomeapi.com.br/json/05424020\n"
   ]
  },
  {
   "cell_type": "markdown",
   "metadata": {},
   "source": [
    "Respostas:\n",
    "200 \n",
    "CEP encontrado\n",
    "{\n",
    "  \"cep\": \"05424020\",\n",
    "  \"address_type\": \"Rua\",\n",
    "  \"address_name\": \"Professor Carlos Reis\",\n",
    "  \"address\": \"Rua Professor Carlos Reis\",\n",
    "  \"district\": \"Pinheiros\",\n",
    "  \"state\": \"SP\",\n",
    "  \"city\": \"São Paulo\",\n",
    "  \"state\": \"SP\",\n",
    "  \"lat\": \"-23.5703026\",\n",
    "  \"lng\": \"-46.6967364\",\n",
    "  \"ddd\": \"11\",\n",
    "  \"city_ibge\": \"3550308\"\n",
    "}"
   ]
  },
  {
   "cell_type": "markdown",
   "metadata": {},
   "source": [
    "400 \n",
    "CEP inválido\n",
    "{\n",
    "    status: 400,\n",
    "    code: \"invalid\",\n",
    "    message: \"CEP invalido\"\n",
    "}"
   ]
  },
  {
   "cell_type": "markdown",
   "metadata": {},
   "source": [
    "404\n",
    "CEP não encontrado\n",
    "{\n",
    "    status: 404,\n",
    "    code: \"not_found\",\n",
    "    message: \"O CEP 00000000 nao foi encontrado\"\n",
    "}"
   ]
  },
  {
   "cell_type": "code",
   "execution_count": 2,
   "metadata": {},
   "outputs": [],
   "source": [
    "import requests\n",
    "import json"
   ]
  },
  {
   "cell_type": "code",
   "execution_count": 3,
   "metadata": {},
   "outputs": [],
   "source": [
    "def busca_cep(cep):\n",
    "    # requisição request \n",
    "    objeto_endereço_completo = requests.get(f'https://cep.awesomeapi.com.br/json/{cep}')\n",
    "    return objeto_endereço_completo"
   ]
  },
  {
   "cell_type": "code",
   "execution_count": 9,
   "metadata": {},
   "outputs": [],
   "source": [
    "status_resposta = endereço_completo\n",
    "# 200 ok  400 cep inválido 404 não encontrado\n",
    "\n",
    "\n",
    "# resposta json convertida para um dicionario json\n",
    "dict_end_completo = endereço_completo.json()\n"
   ]
  },
  {
   "cell_type": "code",
   "execution_count": 4,
   "metadata": {},
   "outputs": [],
   "source": [
    "def printa_endereco(dict_end_completo):\n",
    "    print(dict_end_completo['cep'])\n",
    "    print(dict_end_completo['address'])\n",
    "    print(dict_end_completo['district'])\n",
    "    print(dict_end_completo['city'], \" \", end=\"\")\n",
    "    print(dict_end_completo['state'])\n"
   ]
  },
  {
   "cell_type": "code",
   "execution_count": 24,
   "metadata": {},
   "outputs": [
    {
     "name": "stdout",
     "output_type": "stream",
     "text": [
      "05424020\n",
      "Rua Professor Carlos Reis\n",
      "Pinheiros\n",
      "São Paulo  SP\n"
     ]
    }
   ],
   "source": [
    "printa_endereco(dict_end_completo)"
   ]
  },
  {
   "cell_type": "code",
   "execution_count": 10,
   "metadata": {},
   "outputs": [
    {
     "name": "stdout",
     "output_type": "stream",
     "text": [
      "CEP: \"98555655655\" - Http Status 404 - CEP não encontrado\n"
     ]
    }
   ],
   "source": [
    "cep_solicitado = input('Digite o cep a ser localizado: ')\n",
    "objeto_endereco = busca_cep(cep_solicitado)\n",
    "if objeto_endereco.status_code == 400:\n",
    "    print(f'CEP: \"{cep_solicitado}\" - Http Status 400 - CEP inválido')\n",
    "elif objeto_endereco.status_code == 404:\n",
    "    print(f'CEP: \"{cep_solicitado}\" - Http Status 404 - CEP não encontrado')\n",
    "elif objeto_endereco.status_code == 200:\n",
    "    printa_endereco(objeto_endereco.json())\n",
    "\n",
    "\n"
   ]
  }
 ],
 "metadata": {
  "interpreter": {
   "hash": "d67a6ca98be28c8cf502402a1d37bfe2040f0349fa54090cd1d1dcbfe425ef56"
  },
  "kernelspec": {
   "display_name": "Python 3.10.2 ('venv': venv)",
   "language": "python",
   "name": "python3"
  },
  "language_info": {
   "codemirror_mode": {
    "name": "ipython",
    "version": 3
   },
   "file_extension": ".py",
   "mimetype": "text/x-python",
   "name": "python",
   "nbconvert_exporter": "python",
   "pygments_lexer": "ipython3",
   "version": "3.10.2"
  },
  "orig_nbformat": 4
 },
 "nbformat": 4,
 "nbformat_minor": 2
}
