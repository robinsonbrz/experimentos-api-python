{
 "cells": [
  {
   "cell_type": "code",
   "execution_count": 1,
   "metadata": {},
   "outputs": [],
   "source": [
    "import requests\n",
    "import json\n",
    "from datetime import datetime"
   ]
  },
  {
   "cell_type": "code",
   "execution_count": 2,
   "metadata": {},
   "outputs": [],
   "source": [
    "def cria_lista_todos_pares_nomes():\n",
    "    objeto_cotacoes = requests.get('https://economia.awesomeapi.com.br/json/all')\n",
    "    # retorna todas as modedas disponíveis\n",
    "    dict_cotacoes_moedas = objeto_cotacoes.json()\n",
    "\n",
    "    lista_moedas = []\n",
    "    dict_pares_moedas = {}\n",
    "    lista_pares = []\n",
    "\n",
    "    # itera mostrando todas as moedas possíveis\n",
    "    for moeda in dict_cotacoes_moedas:\n",
    "        lista_moedas.append(moeda)\n",
    "    for moeda in lista_moedas:\n",
    "        lista_pares.append((moeda,dict_cotacoes_moedas[moeda]['name'].split('/')[0]))\n",
    "    dict_pares_moedas['pares'] = lista_pares\n",
    "    return dict_pares_moedas"
   ]
  },
  {
   "cell_type": "code",
   "execution_count": 25,
   "metadata": {},
   "outputs": [
    {
     "name": "stdout",
     "output_type": "stream",
     "text": [
      "[{'code': 'USD', 'name': 'Dólar Americano', 'high': '5.209', 'low': '5.1069', 'varBid': '-0.0229', 'pctChange': '-0.45', 'bid': '5.1129', 'ask': '5.1159', 'create_date': '2022-05-12 12:15'}, {'code': 'USD', 'name': 'Dólar Americano', 'high': '5.225', 'low': '5.135', 'varBid': '-0.03', 'pctChange': '-0.58', 'bid': '4.98', 'ask': '5.29', 'create_date': '2022-05-12 12:10'}, {'code': 'CAD', 'name': 'Dólar Canadense', 'high': '3.996', 'low': '3.9274', 'varBid': '-0.0218', 'pctChange': '-0.55', 'bid': '3.9298', 'ask': '3.9319', 'create_date': '2022-05-12 12:15'}, {'code': 'EUR', 'name': 'Euro', 'high': '5.4199', 'low': '5.321', 'varBid': '-0.0734', 'pctChange': '-1.36', 'bid': '5.3241', 'ask': '5.3287', 'create_date': '2022-05-12 12:15'}, {'code': 'GBP', 'name': 'Libra Esterlina', 'high': '6.3538', 'low': '6.2494', 'varBid': '-0.0368', 'pctChange': '-0.58', 'bid': '6.2531', 'ask': '6.2597', 'create_date': '2022-05-12 12:15'}, {'code': 'ARS', 'name': 'Peso Argentino', 'high': '0.0445', 'low': '0.0435', 'varBid': '-0.0003', 'pctChange': '-0.68', 'bid': '0.0436', 'ask': '0.0436', 'create_date': '2022-05-12 12:15'}, {'code': 'BTC', 'name': 'Bitcoin', 'high': '161.933', 'low': '135.007', 'varBid': '-11155', 'pctChange': '-6.86', 'bid': '151.29', 'ask': '151.432', 'create_date': '2022-05-12 12:15'}, {'code': 'LTC', 'name': 'Litecoin', 'high': '400.52', 'low': '276.52', 'varBid': '-58.47', 'pctChange': '-14.6', 'bid': '337.69', 'ask': '340.44', 'create_date': '2022-05-12 12:15'}, {'code': 'JPY', 'name': 'Iene Japonês', 'high': '0.04061', 'low': '0.03951', 'varBid': '0.0003', 'pctChange': '0.76', 'bid': '0.03985', 'ask': '0.03988', 'create_date': '2022-05-12 12:16'}, {'code': 'CHF', 'name': 'Franco Suíço', 'high': '5.2231', 'low': '5.1185', 'varBid': '-0.0433', 'pctChange': '-0.84', 'bid': '5.1199', 'ask': '5.1239', 'create_date': '2022-05-12 12:15'}, {'code': 'AUD', 'name': 'Dólar Australiano', 'high': '3.577', 'low': '3.5156', 'varBid': '-0.0439', 'pctChange': '-1.23', 'bid': '3.5182', 'ask': '3.5213', 'create_date': '2022-05-12 12:15'}, {'code': 'CNY', 'name': 'Yuan Chinês', 'high': '0.7662', 'low': '0.7531', 'varBid': '-0.0091', 'pctChange': '-1.2', 'bid': '0.7539', 'ask': '0.754', 'create_date': '2022-05-12 12:15'}, {'code': 'ILS', 'name': 'Novo Shekel Israelense', 'high': '1.5062', 'low': '1.4806', 'varBid': '-0.0066', 'pctChange': '-0.44', 'bid': '1.4856', 'ask': '1.4859', 'create_date': '2022-05-12 12:15'}, {'code': 'ETH', 'name': 'Ethereum', 'high': '12.1004', 'low': '9', 'varBid': '-1432.48', 'pctChange': '-12.11', 'bid': '10.3402', 'ask': '10.3946', 'create_date': '2022-05-12 12:15'}, {'code': 'XRP', 'name': 'XRP', 'high': '2.37', 'low': '1.77', 'varBid': '-0.4', 'pctChange': '-16.61', 'bid': '2.02', 'ask': '2.02', 'create_date': '2022-05-12 12:15'}, {'code': 'DOGE', 'name': 'Dogecoin', 'high': '0.468842', 'low': '0.360261', 'varBid': '-0.064205', 'pctChange': '-13.25', 'bid': '0.420404', 'ask': '0.420404', 'create_date': '2022-05-12 12:15'}]\n"
     ]
    }
   ],
   "source": [
    "dict_pares_moedas = cria_lista_todos_pares_nomes()\n",
    "string_pares = ''\n",
    "for moeda in dict_pares_moedas['pares']:\n",
    "    string_pares += moeda[0] + ','\n",
    "string_pares = string_pares[:-1]   # retira a última vírgula\n",
    "\n",
    "# consulta a api\n",
    "# https://economia.awesomeapi.com.br/last/USD,USDT,CAD,EUR,GBP,ARS,BTC,LTC,JPY,CHF,AUD,CNY,ILS,ETH,XRP,DOGE\n",
    "objetos_ultima_cotacao = requests.get(f'https://economia.awesomeapi.com.br/last/{string_pares}')\n",
    "# retorna todas as modedas disponíveis para análise\n",
    "# print(objeto_cotacoes.status_code)\n",
    "objetos_ultima_cotacao = objetos_ultima_cotacao.json()\n",
    "\n",
    "# # print(objetos_ultima_cotacao)\n",
    "# for item in objetos_ultima_cotacao:\n",
    "#         lista_pares.append((moeda,dict_cotacoes_moedas[moeda]['name'].split('/')[0]))\n",
    "# del shoe[\"discount\"]\n",
    "lista_todos_obj = []\n",
    "for a in objetos_ultima_cotacao:\n",
    "    del objetos_ultima_cotacao[a]['codein']\n",
    "    del objetos_ultima_cotacao[a]['timestamp']\n",
    "    objetos_ultima_cotacao[a]['name'] = objetos_ultima_cotacao[a]['name'].split('/')[0]\n",
    "    objetos_ultima_cotacao[a]['create_date'] = objetos_ultima_cotacao[a]['create_date'][:-3]\n",
    "    lista_todos_obj.append(objetos_ultima_cotacao[a])\n",
    "# dict_todos_ult_cot['todos_ult'] = lista_todos_obj[0]\n",
    "    # print(objetos_ultima_cotacao[a])\n",
    "print(lista_todos_obj)"
   ]
  }
 ],
 "metadata": {
  "interpreter": {
   "hash": "d67a6ca98be28c8cf502402a1d37bfe2040f0349fa54090cd1d1dcbfe425ef56"
  },
  "kernelspec": {
   "display_name": "Python 3.10.2 ('venv': venv)",
   "language": "python",
   "name": "python3"
  },
  "language_info": {
   "codemirror_mode": {
    "name": "ipython",
    "version": 3
   },
   "file_extension": ".py",
   "mimetype": "text/x-python",
   "name": "python",
   "nbconvert_exporter": "python",
   "pygments_lexer": "ipython3",
   "version": "3.10.4"
  },
  "orig_nbformat": 4
 },
 "nbformat": 4,
 "nbformat_minor": 2
}
