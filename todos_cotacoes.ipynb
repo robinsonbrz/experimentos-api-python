{
 "cells": [
  {
   "cell_type": "code",
   "execution_count": 1,
   "metadata": {},
   "outputs": [],
   "source": [
    "import requests\n",
    "import json\n",
    "from datetime import datetime"
   ]
  },
  {
   "cell_type": "code",
   "execution_count": 2,
   "metadata": {},
   "outputs": [],
   "source": [
    "def cria_lista_todos_pares_nomes():\n",
    "    objeto_cotacoes = requests.get('https://economia.awesomeapi.com.br/json/all')\n",
    "    # retorna todas as modedas disponíveis\n",
    "    dict_cotacoes_moedas = objeto_cotacoes.json()\n",
    "\n",
    "    lista_moedas = []\n",
    "    dict_pares_moedas = {}\n",
    "    lista_pares = []\n",
    "\n",
    "    # itera mostrando todas as moedas possíveis\n",
    "    for moeda in dict_cotacoes_moedas:\n",
    "        lista_moedas.append(moeda)\n",
    "    for moeda in lista_moedas:\n",
    "        lista_pares.append((moeda,dict_cotacoes_moedas[moeda]['name'].split('/')[0]))\n",
    "    dict_pares_moedas['pares'] = lista_pares\n",
    "    return dict_pares_moedas"
   ]
  },
  {
   "cell_type": "code",
   "execution_count": 13,
   "metadata": {},
   "outputs": [
    {
     "name": "stdout",
     "output_type": "stream",
     "text": [
      "{'todos_ult': [{'code': 'USD', 'codein': 'BRL', 'name': 'Dólar Americano/Real Brasileiro', 'high': '5.209', 'low': '5.1182', 'varBid': '-0.0183', 'pctChange': '-0.36', 'bid': '5.1182', 'ask': '5.1197', 'timestamp': '1652367927', 'create_date': '2022-05-12 12:05:27'}, {'code': 'USD', 'codein': 'BRLT', 'name': 'Dólar Americano/Real Brasileiro Turismo', 'high': '5.225', 'low': '5.165', 'varBid': '0.03', 'pctChange': '0.58', 'bid': '5.04', 'ask': '5.35', 'timestamp': '1652364480', 'create_date': '2022-05-12 11:08:00'}, {'code': 'CAD', 'codein': 'BRL', 'name': 'Dólar Canadense/Real Brasileiro', 'high': '3.996', 'low': '3.9302', 'varBid': '-0.0187', 'pctChange': '-0.47', 'bid': '3.9332', 'ask': '3.9348', 'timestamp': '1652367927', 'create_date': '2022-05-12 12:05:27'}, {'code': 'EUR', 'codein': 'BRL', 'name': 'Euro/Real Brasileiro', 'high': '5.4199', 'low': '5.3286', 'varBid': '-0.0684', 'pctChange': '-1.27', 'bid': '5.3306', 'ask': '5.3322', 'timestamp': '1652367924', 'create_date': '2022-05-12 12:05:24'}, {'code': 'GBP', 'codein': 'BRL', 'name': 'Libra Esterlina/Real Brasileiro', 'high': '6.3538', 'low': '6.2514', 'varBid': '-0.0354', 'pctChange': '-0.56', 'bid': '6.2566', 'ask': '6.2591', 'timestamp': '1652367924', 'create_date': '2022-05-12 12:05:24'}, {'code': 'ARS', 'codein': 'BRL', 'name': 'Peso Argentino/Real Brasileiro', 'high': '0.0445', 'low': '0.0437', 'varBid': '-0.0002', 'pctChange': '-0.46', 'bid': '0.0437', 'ask': '0.0437', 'timestamp': '1652367927', 'create_date': '2022-05-12 12:05:27'}, {'code': 'BTC', 'codein': 'BRL', 'name': 'Bitcoin/Real Brasileiro', 'high': '164', 'low': '135.007', 'varBid': '-13409', 'pctChange': '-8.25', 'bid': '148.939', 'ask': '149.147', 'timestamp': '1652366601', 'create_date': '2022-05-12 11:43:21'}, {'code': 'LTC', 'codein': 'BRL', 'name': 'Litecoin/Real Brasileiro', 'high': '410', 'low': '276.52', 'varBid': '-67.03', 'pctChange': '-16.73', 'bid': '323.09', 'ask': '326.95', 'timestamp': '1652366623', 'create_date': '2022-05-12 11:43:43'}, {'code': 'JPY', 'codein': 'BRL', 'name': 'Iene Japonês/Real Brasileiro', 'high': '0.04061', 'low': '0.03951', 'varBid': '0.0004', 'pctChange': '1.01', 'bid': '0.03992', 'ask': '0.03995', 'timestamp': '1652367926', 'create_date': '2022-05-12 12:05:26'}, {'code': 'CHF', 'codein': 'BRL', 'name': 'Franco Suíço/Real Brasileiro', 'high': '5.2231', 'low': '5.1252', 'varBid': '-0.0357', 'pctChange': '-0.69', 'bid': '5.1275', 'ask': '5.1315', 'timestamp': '1652367928', 'create_date': '2022-05-12 12:05:28'}, {'code': 'AUD', 'codein': 'BRL', 'name': 'Dólar Australiano/Real Brasileiro', 'high': '3.577', 'low': '3.5187', 'varBid': '-0.0444', 'pctChange': '-1.25', 'bid': '3.5185', 'ask': '3.5201', 'timestamp': '1652367927', 'create_date': '2022-05-12 12:05:27'}, {'code': 'CNY', 'codein': 'BRL', 'name': 'Yuan Chinês/Real Brasileiro', 'high': '0.7662', 'low': '0.7546', 'varBid': '-0.0082', 'pctChange': '-1.07', 'bid': '0.7548', 'ask': '0.755', 'timestamp': '1652367963', 'create_date': '2022-05-12 12:06:03'}, {'code': 'ILS', 'codein': 'BRL', 'name': 'Novo Shekel Israelense/Real Brasileiro', 'high': '1.5062', 'low': '1.4806', 'varBid': '-0.0057', 'pctChange': '-0.38', 'bid': '1.4865', 'ask': '1.487', 'timestamp': '1652367964', 'create_date': '2022-05-12 12:06:04'}, {'code': 'ETH', 'codein': 'BRL', 'name': 'Ethereum/Real Brasileiro', 'high': '12.1004', 'low': '9', 'varBid': '-1707.79', 'pctChange': '-14.1', 'bid': '10.3567', 'ask': '10.405', 'timestamp': '1652367861', 'create_date': '2022-05-12 12:04:21'}, {'code': 'XRP', 'codein': 'BRL', 'name': 'XRP/Real Brasileiro', 'high': '2.45', 'low': '1.77', 'varBid': '-0.43', 'pctChange': '-17.89', 'bid': '1.96', 'ask': '1.99', 'timestamp': '1652366610', 'create_date': '2022-05-12 11:43:30'}, {'code': 'DOGE', 'codein': 'BRL', 'name': 'Dogecoin/Real Brasileiro', 'high': '0.474833', 'low': '0.360261', 'varBid': '-0.072179', 'pctChange': '-14.89', 'bid': '0.41243', 'ask': '0.41243', 'timestamp': '1652367860', 'create_date': '2022-05-12 12:04:20'}]}\n"
     ]
    }
   ],
   "source": [
    "dict_pares_moedas = cria_lista_todos_pares_nomes()\n",
    "string_pares = ''\n",
    "for moeda in dict_pares_moedas['pares']:\n",
    "    string_pares += moeda[0] + ','\n",
    "string_pares = string_pares[:-1]   # retira a última vírgula\n",
    "\n",
    "# consulta a api\n",
    "# https://economia.awesomeapi.com.br/last/USD,USDT,CAD,EUR,GBP,ARS,BTC,LTC,JPY,CHF,AUD,CNY,ILS,ETH,XRP,DOGE\n",
    "objetos_ultima_cotacao = requests.get(f'https://economia.awesomeapi.com.br/last/{string_pares}')\n",
    "# retorna todas as modedas disponíveis para análise\n",
    "# print(objeto_cotacoes.status_code)\n",
    "objetos_ultima_cotacao = objetos_ultima_cotacao.json()\n",
    "# print(objetos_ultima_cotacao)\n",
    "dict_todos_ult_cot = {}\n",
    "lista_todos_obj = []\n",
    "for a in objetos_ultima_cotacao:\n",
    "    lista_todos_obj.append(objetos_ultima_cotacao[a])\n",
    "dict_todos_ult_cot['todos_ult'] = lista_todos_obj[0]\n",
    "    # print(objetos_ultima_cotacao[a])\n",
    "print(dict_todos_ult_cot)"
   ]
  }
 ],
 "metadata": {
  "interpreter": {
   "hash": "d67a6ca98be28c8cf502402a1d37bfe2040f0349fa54090cd1d1dcbfe425ef56"
  },
  "kernelspec": {
   "display_name": "Python 3.10.2 ('venv': venv)",
   "language": "python",
   "name": "python3"
  },
  "language_info": {
   "codemirror_mode": {
    "name": "ipython",
    "version": 3
   },
   "file_extension": ".py",
   "mimetype": "text/x-python",
   "name": "python",
   "nbconvert_exporter": "python",
   "pygments_lexer": "ipython3",
   "version": "3.10.2"
  },
  "orig_nbformat": 4
 },
 "nbformat": 4,
 "nbformat_minor": 2
}
